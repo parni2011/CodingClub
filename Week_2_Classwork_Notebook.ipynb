{
  "nbformat": 4,
  "nbformat_minor": 0,
  "metadata": {
    "colab": {
      "provenance": [],
      "include_colab_link": true
    },
    "kernelspec": {
      "name": "python3",
      "display_name": "Python 3"
    },
    "language_info": {
      "name": "python"
    }
  },
  "cells": [
    {
      "cell_type": "markdown",
      "metadata": {
        "id": "view-in-github",
        "colab_type": "text"
      },
      "source": [
        "<a href=\"https://colab.research.google.com/github/parni2011/CodingClub/blob/main/Week_2_Classwork_Notebook.ipynb\" target=\"_parent\"><img src=\"https://colab.research.google.com/assets/colab-badge.svg\" alt=\"Open In Colab\"/></a>"
      ]
    },
    {
      "cell_type": "markdown",
      "source": [
        "**Week 2: Basics**\n",
        "---\n",
        "\n",
        "### **Description**\n",
        "In this week, we will familiarize ourselves with printing statements and creating variables.\n",
        "\n",
        "<br>\n",
        "\n",
        "\n",
        "<br>\n",
        "\n",
        "### **Learning Objectives**\n",
        "By the end of this lab, we will:\n",
        "* Learn how to print strings\n",
        "* Create variables to store strings\n",
        "\n"
      ],
      "metadata": {
        "id": "K3JVwUgVElwe"
      }
    },
    {
      "cell_type": "markdown",
      "source": [
        "<a name=\"p1\"></a>\n",
        "\n",
        "---\n",
        "## **Part 1: Printing Strings**\n",
        "---"
      ],
      "metadata": {
        "id": "vFusVI8O6sd-"
      }
    },
    {
      "cell_type": "markdown",
      "source": [
        "#### **Problem #1.1**\n",
        "\n",
        "**Together**, let's print a hobby!"
      ],
      "metadata": {
        "id": "4EgRMGgY7J-X"
      }
    },
    {
      "cell_type": "code",
      "source": [
        "print(\"Painting\")"
      ],
      "metadata": {
        "id": "c6Xdvwc16KZ5",
        "colab": {
          "base_uri": "https://localhost:8080/"
        },
        "outputId": "884c61e0-4bc4-46f1-8ee6-01a64001c570"
      },
      "execution_count": 1,
      "outputs": [
        {
          "output_type": "stream",
          "name": "stdout",
          "text": [
            "Painting\n"
          ]
        }
      ]
    },
    {
      "cell_type": "markdown",
      "source": [
        "#### **Problem #1.2**\n",
        "\n",
        "**Independently**, let's print your favorite food!"
      ],
      "metadata": {
        "id": "0m36jq9PY4uY"
      }
    },
    {
      "cell_type": "code",
      "source": [
        "print(\"Lemon Rice\")"
      ],
      "metadata": {
        "id": "Gxm7jMAKYzz7",
        "colab": {
          "base_uri": "https://localhost:8080/"
        },
        "outputId": "d192c14a-731b-49d6-d6b4-a1e83ecbc1f9"
      },
      "execution_count": 3,
      "outputs": [
        {
          "output_type": "stream",
          "name": "stdout",
          "text": [
            "Lemon Rice\n"
          ]
        }
      ]
    },
    {
      "cell_type": "markdown",
      "source": [
        "<a name=\"p1\"></a>\n",
        "\n",
        "---\n",
        "## **Part 2: Variables**\n",
        "---"
      ],
      "metadata": {
        "id": "nlLXEG6dOMnH"
      }
    },
    {
      "cell_type": "markdown",
      "source": [
        "\n",
        "### Remember, variable rules:\n",
        "\n",
        "* Variable names can contain only letters, numbers, and underscores\n",
        "* Can’t start with number. Spaces are not allowed in variable names\n",
        "* Underscores can be used to separate words\n",
        "* Avoid using Python keywords and function\n",
        "* Short but descriptive\n",
        "* Careful when using the lowercase letter l and the uppercase letter O (confusing with numbers 1 and 0)"
      ],
      "metadata": {
        "id": "tVf7EavmaXIM"
      }
    },
    {
      "cell_type": "markdown",
      "source": [
        "#### **Problem #2.1**\n",
        "\n",
        "**Together**, let's create a variable for a favorite color"
      ],
      "metadata": {
        "id": "fW0v28kFPKJI"
      }
    },
    {
      "cell_type": "code",
      "source": [
        "favorite_color = \"Pink\""
      ],
      "metadata": {
        "id": "aKfg9lCLZJzy"
      },
      "execution_count": null,
      "outputs": []
    },
    {
      "cell_type": "markdown",
      "source": [
        "#### **Problem #2.2**\n",
        "\n",
        "**Independently**,  store your favorite food."
      ],
      "metadata": {
        "id": "3ibIHkdzZ_RY"
      }
    },
    {
      "cell_type": "code",
      "source": [
        "favorite_food = \"Lemon Rice\""
      ],
      "metadata": {
        "id": "y4bYp0JCROef"
      },
      "execution_count": null,
      "outputs": []
    },
    {
      "cell_type": "markdown",
      "source": [
        "#### **Problem #2.3**\n",
        "\n",
        "**Independently**,  store your name in the variable: name. Print your name. Change the variable into your friend's name. Print again."
      ],
      "metadata": {
        "id": "y1lmqKMNRMu3"
      }
    },
    {
      "cell_type": "code",
      "source": [
        "name = \"Parnitha\"\n",
        "print(name)\n",
        "name = \"Kaya\"\n",
        "print(name)"
      ],
      "metadata": {
        "id": "YDF0Ryh5Pxra"
      },
      "execution_count": null,
      "outputs": []
    },
    {
      "cell_type": "markdown",
      "source": [
        "<a name=\"p1\"></a>\n",
        "\n",
        "---\n",
        "## **Part 3: Strings**\n",
        "---"
      ],
      "metadata": {
        "id": "hp8tfu0mP6md"
      }
    },
    {
      "cell_type": "markdown",
      "source": [
        "\n",
        "### **Remember, what is a string?**\n",
        "\n",
        "* The first data type we’ll look at is the string.\n",
        "* Strings are quite simple at first glance, but you can use them in many different ways.\n",
        "* A string is simply a series of characters.\n",
        "* Anything inside quotes is considered a string in Python, and you can use single or double quotes around your strings like this:\n",
        "*   -\"This is a string.\"\n",
        "*   -'This is also a string.'"
      ],
      "metadata": {
        "id": "BBM5MqpIP6md"
      }
    },
    {
      "cell_type": "markdown",
      "source": [
        "#### **Problem #3.1 (name.title())**\n",
        "\n",
        "**Together**, take a look at this example!"
      ],
      "metadata": {
        "id": "XeZhUKNHP6me"
      }
    },
    {
      "cell_type": "code",
      "source": [
        "name = \"aDa LovElace!\"\n",
        "(name.title())"
      ],
      "metadata": {
        "id": "d6Bk3T_0QuVD",
        "colab": {
          "base_uri": "https://localhost:8080/",
          "height": 35
        },
        "outputId": "8c4b9edb-4bc0-4077-fda3-7aab38394eb2"
      },
      "execution_count": 1,
      "outputs": [
        {
          "output_type": "execute_result",
          "data": {
            "text/plain": [
              "'Ada Lovelace!'"
            ],
            "application/vnd.google.colaboratory.intrinsic+json": {
              "type": "string"
            }
          },
          "metadata": {},
          "execution_count": 1
        }
      ]
    },
    {
      "cell_type": "markdown",
      "source": [
        "#### **Problem #3.2 (name.lower())**\n",
        "\n",
        "**Together**, take a look at this example!"
      ],
      "metadata": {
        "id": "iev56Bk6P6me"
      }
    },
    {
      "cell_type": "code",
      "source": [
        "name = \"aDa LovElace!\"\n",
        "(name.lower())"
      ],
      "metadata": {
        "id": "5NoLV0LHQsf0",
        "colab": {
          "base_uri": "https://localhost:8080/",
          "height": 35
        },
        "outputId": "d08cd243-6e0c-413d-cbf6-98fe7d1d41c8"
      },
      "execution_count": 2,
      "outputs": [
        {
          "output_type": "execute_result",
          "data": {
            "text/plain": [
              "'ada lovelace!'"
            ],
            "application/vnd.google.colaboratory.intrinsic+json": {
              "type": "string"
            }
          },
          "metadata": {},
          "execution_count": 2
        }
      ]
    },
    {
      "cell_type": "markdown",
      "source": [
        "#### **Problem #3.3 (name.upper())**\n",
        "\n",
        "**Together**, take a look at this example!"
      ],
      "metadata": {
        "id": "MWVVbA6eP6me"
      }
    },
    {
      "cell_type": "code",
      "source": [
        "name = \"aDa LovElace!\"\n",
        "(name.upper())"
      ],
      "metadata": {
        "id": "dYN7xaB1P6me",
        "colab": {
          "base_uri": "https://localhost:8080/",
          "height": 35
        },
        "outputId": "bfe6f09d-4e66-4576-b300-be8b36943b45"
      },
      "execution_count": 3,
      "outputs": [
        {
          "output_type": "execute_result",
          "data": {
            "text/plain": [
              "'ADA LOVELACE!'"
            ],
            "application/vnd.google.colaboratory.intrinsic+json": {
              "type": "string"
            }
          },
          "metadata": {},
          "execution_count": 3
        }
      ]
    },
    {
      "cell_type": "markdown",
      "source": [
        "#### **Problem #3.4 (string concatenating)**\n",
        "\n",
        "**Together**,  Store a last name and a first name and combine them through concatenating to create a full name.\n"
      ],
      "metadata": {
        "id": "tdo2WRVaP6me"
      }
    },
    {
      "cell_type": "code",
      "source": [
        "first_name = \"Jane \"\n",
        "last_name = \"Doe\"\n",
        "first_name + last_name"
      ],
      "metadata": {
        "id": "s5ONmwuiP6me",
        "colab": {
          "base_uri": "https://localhost:8080/",
          "height": 35
        },
        "outputId": "ea3903b8-017c-40c0-e3ce-4c0889f8196e"
      },
      "execution_count": 4,
      "outputs": [
        {
          "output_type": "execute_result",
          "data": {
            "text/plain": [
              "'Jane Doe'"
            ],
            "application/vnd.google.colaboratory.intrinsic+json": {
              "type": "string"
            }
          },
          "metadata": {},
          "execution_count": 4
        }
      ]
    }
  ]
}